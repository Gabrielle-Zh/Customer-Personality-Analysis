{
 "cells": [
  {
   "cell_type": "markdown",
   "id": "3a94ed8b-3164-48dc-ac0c-da2b7e2694af",
   "metadata": {},
   "source": [
    "# Marketing data"
   ]
  },
  {
   "cell_type": "code",
   "execution_count": null,
   "id": "600e9999-5776-436e-947a-578af876b4af",
   "metadata": {},
   "outputs": [],
   "source": []
  }
 ],
 "metadata": {
  "kernelspec": {
   "display_name": "Python 3 (ipykernel)",
   "language": "python",
   "name": "python3"
  },
  "language_info": {
   "codemirror_mode": {
    "name": "ipython",
    "version": 3
   },
   "file_extension": ".py",
   "mimetype": "text/x-python",
   "name": "python",
   "nbconvert_exporter": "python",
   "pygments_lexer": "ipython3",
   "version": "3.9.7"
  }
 },
 "nbformat": 4,
 "nbformat_minor": 5
}

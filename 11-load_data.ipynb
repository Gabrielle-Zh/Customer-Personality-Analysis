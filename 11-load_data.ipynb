{
 "cells": [
  {
   "cell_type": "markdown",
   "id": "4635510b-4e10-4d7d-8efe-34eb44a66d04",
   "metadata": {},
   "source": [
    "Load Data"
   ]
  },
  {
   "cell_type": "code",
   "execution_count": null,
   "id": "67ed87e7-42e1-4b9b-9616-c2f08a3c298f",
   "metadata": {},
   "outputs": [],
   "source": [
    "import pandas as pd"
   ]
  },
  {
   "cell_type": "code",
   "execution_count": null,
   "id": "5bfb59cd-12f9-44a1-924c-63ef564ff8c0",
   "metadata": {},
   "outputs": [],
   "source": []
  }
 ],
 "metadata": {
  "kernelspec": {
   "display_name": "Python 3 (ipykernel)",
   "language": "python",
   "name": "python3"
  }
 },
 "nbformat": 4,
 "nbformat_minor": 5
}
